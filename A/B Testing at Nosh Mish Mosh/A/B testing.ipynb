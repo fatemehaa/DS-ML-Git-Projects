{
 "cells": [
  {
   "cell_type": "code",
   "execution_count": 12,
   "metadata": {},
   "outputs": [],
   "source": [
    "# import data\n",
    "import noshmishmosh\n",
    "\n",
    "# import necessary libraries\n",
    "import numpy as np"
   ]
  },
  {
   "cell_type": "code",
   "execution_count": 13,
   "metadata": {},
   "outputs": [],
   "source": [
    "# separate information from the data\n",
    "all_visitors = noshmishmosh.customer_visits\n",
    "paying_visitors = noshmishmosh.purchasing_customers\n",
    "total_visitor_count = len(all_visitors)\n",
    "paying_visitor_count = len(paying_visitors)\n",
    "payment_history = noshmishmosh.money_spent\n",
    "average_payment = np.mean(payment_history)"
   ]
  },
  {
   "cell_type": "code",
   "execution_count": 14,
   "metadata": {},
   "outputs": [
    {
     "data": {
      "text/plain": [
       "18.6"
      ]
     },
     "execution_count": 14,
     "metadata": {},
     "output_type": "execute_result"
    }
   ],
   "source": [
    "# calculate Baseline conversion rate\n",
    "baseline_percent = paying_visitor_count / total_visitor_count * 100\n",
    "baseline_percent"
   ]
  },
  {
   "cell_type": "code",
   "execution_count": 20,
   "metadata": {},
   "outputs": [
    {
     "data": {
      "text/plain": [
       "47.0"
      ]
     },
     "execution_count": 20,
     "metadata": {},
     "output_type": "execute_result"
    }
   ],
   "source": [
    "## Effect size\n",
    "\n",
    "# number of new customers needed to reach the $1240 additional revenue in order to sell \n",
    "# new expensive products, rounded up\n",
    "new_customers_needed = np.ceil(1240 / average_payment)\n",
    "new_customers_needed"
   ]
  },
  {
   "cell_type": "code",
   "execution_count": 21,
   "metadata": {},
   "outputs": [
    {
     "data": {
      "text/plain": [
       "9.4"
      ]
     },
     "execution_count": 21,
     "metadata": {},
     "output_type": "execute_result"
    }
   ],
   "source": [
    "# Additional percent of weekly visitors who must make a purchase \n",
    "# in order to make this change worthwhile\n",
    "percentage_point_increase = new_customers_needed / total_visitor_count * 100\n",
    "percentage_point_increase"
   ]
  },
  {
   "cell_type": "code",
   "execution_count": 22,
   "metadata": {},
   "outputs": [
    {
     "data": {
      "text/plain": [
       "50.53763440860215"
      ]
     },
     "execution_count": 22,
     "metadata": {},
     "output_type": "execute_result"
    }
   ],
   "source": [
    "# Minimum detectable effect/desired lift\n",
    "mde = percentage_point_increase / baseline_percent * 100\n",
    "mde"
   ]
  },
  {
   "cell_type": "code",
   "execution_count": 23,
   "metadata": {},
   "outputs": [],
   "source": [
    "# calculate sample size with a A/B calculator\n",
    "# significance threshold = 10%\n",
    "ab_sample_size = 490"
   ]
  },
  {
   "cell_type": "code",
   "execution_count": null,
   "metadata": {},
   "outputs": [],
   "source": []
  }
 ],
 "metadata": {
  "kernelspec": {
   "display_name": "ds",
   "language": "python",
   "name": "python3"
  },
  "language_info": {
   "codemirror_mode": {
    "name": "ipython",
    "version": 3
   },
   "file_extension": ".py",
   "mimetype": "text/x-python",
   "name": "python",
   "nbconvert_exporter": "python",
   "pygments_lexer": "ipython3",
   "version": "3.10.13"
  }
 },
 "nbformat": 4,
 "nbformat_minor": 2
}

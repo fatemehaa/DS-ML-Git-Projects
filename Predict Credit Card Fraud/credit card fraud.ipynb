{
 "cells": [
  {
   "cell_type": "code",
   "execution_count": 1,
   "metadata": {},
   "outputs": [],
   "source": [
    "import seaborn as sns\n",
    "import pandas as pd\n",
    "import numpy as np\n",
    "import matplotlib.pyplot as plt\n",
    "from sklearn.linear_model import LogisticRegression\n",
    "from sklearn.model_selection import train_test_split\n",
    "from sklearn.preprocessing import StandardScaler\n",
    "\n",
    "\n",
    "# Create isPayment field\n",
    "\n",
    "\n",
    "# Create isMovement field\n",
    "\n",
    "\n",
    "# Create accountDiff field\n",
    "\n",
    "\n",
    "# Create features and label variables\n",
    "\n",
    "\n",
    "# Split dataset\n",
    "\n",
    "\n",
    "# Normalize the features variables\n",
    "\n",
    "\n",
    "# Fit the model to the training data\n",
    "\n",
    "\n",
    "# Score the model on the training data\n",
    "\n",
    "\n",
    "# Score the model on the test data\n",
    "\n",
    "\n",
    "# Print the model coefficients\n",
    "\n",
    "\n",
    "# New transaction data\n",
    "transaction1 = np.array([123456.78, 0.0, 1.0, 54670.1])\n",
    "transaction2 = np.array([98765.43, 1.0, 0.0, 8524.75])\n",
    "transaction3 = np.array([543678.31, 1.0, 0.0, 510025.5])\n",
    "\n",
    "# Create a new transaction\n",
    "\n",
    "\n",
    "# Combine new transactions into a single array\n",
    "\n",
    "\n",
    "# Normalize the new transactions\n",
    "\n",
    "\n",
    "# Predict fraud on the new transactions\n",
    "\n",
    "\n",
    "# Show probabilities on the new transactions"
   ]
  },
  {
   "cell_type": "code",
   "execution_count": 5,
   "metadata": {},
   "outputs": [
    {
     "name": "stdout",
     "output_type": "stream",
     "text": [
      "<class 'pandas.core.frame.DataFrame'>\n",
      "RangeIndex: 1000 entries, 0 to 999\n",
      "Data columns (total 13 columns):\n",
      " #   Column          Non-Null Count  Dtype  \n",
      "---  ------          --------------  -----  \n",
      " 0   step            1000 non-null   int64  \n",
      " 1   type            1000 non-null   object \n",
      " 2   amount          1000 non-null   float64\n",
      " 3   nameOrig        1000 non-null   object \n",
      " 4   oldbalanceOrg   1000 non-null   float64\n",
      " 5   newbalanceOrig  1000 non-null   float64\n",
      " 6   nameDest        1000 non-null   object \n",
      " 7   oldbalanceDest  1000 non-null   float64\n",
      " 8   newbalanceDest  1000 non-null   float64\n",
      " 9   isFraud         1000 non-null   int64  \n",
      " 10  isPayment       1000 non-null   int64  \n",
      " 11  isMovement      1000 non-null   int64  \n",
      " 12  accountDiff     1000 non-null   float64\n",
      "dtypes: float64(6), int64(4), object(3)\n",
      "memory usage: 101.7+ KB\n",
      "None\n"
     ]
    },
    {
     "data": {
      "text/plain": [
       "282"
      ]
     },
     "execution_count": 5,
     "metadata": {},
     "output_type": "execute_result"
    }
   ],
   "source": [
    "# Load the data\n",
    "transactions = pd.read_csv('transactions_modified.csv')\n",
    "print(transactions.info())\n",
    "transactions.head()\n",
    "\n",
    "# How many fraudulent transactions?\n",
    "transactions.isFraud.sum()\n"
   ]
  },
  {
   "cell_type": "code",
   "execution_count": null,
   "metadata": {},
   "outputs": [],
   "source": [
    "# Summary statistics on amount column\n"
   ]
  }
 ],
 "metadata": {
  "kernelspec": {
   "display_name": "ds",
   "language": "python",
   "name": "python3"
  },
  "language_info": {
   "codemirror_mode": {
    "name": "ipython",
    "version": 3
   },
   "file_extension": ".py",
   "mimetype": "text/x-python",
   "name": "python",
   "nbconvert_exporter": "python",
   "pygments_lexer": "ipython3",
   "version": "3.10.13"
  }
 },
 "nbformat": 4,
 "nbformat_minor": 2
}

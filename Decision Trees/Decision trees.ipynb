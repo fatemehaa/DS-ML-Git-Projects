{
 "cells": [
  {
   "cell_type": "code",
   "execution_count": 58,
   "metadata": {},
   "outputs": [],
   "source": [
    "# Import libraries\n",
    "import pandas as pd\n",
    "from sklearn.model_selection import train_test_split\n",
    "from sklearn.tree import DecisionTreeClassifier, DecisionTreeRegressor\n",
    "from sklearn.metrics import accuracy_score\n",
    "from sklearn import tree\n",
    "import matplotlib.pyplot as plt"
   ]
  },
  {
   "cell_type": "code",
   "execution_count": 20,
   "metadata": {},
   "outputs": [
    {
     "data": {
      "text/html": [
       "<div>\n",
       "<style scoped>\n",
       "    .dataframe tbody tr th:only-of-type {\n",
       "        vertical-align: middle;\n",
       "    }\n",
       "\n",
       "    .dataframe tbody tr th {\n",
       "        vertical-align: top;\n",
       "    }\n",
       "\n",
       "    .dataframe thead th {\n",
       "        text-align: right;\n",
       "    }\n",
       "</style>\n",
       "<table border=\"1\" class=\"dataframe\">\n",
       "  <thead>\n",
       "    <tr style=\"text-align: right;\">\n",
       "      <th></th>\n",
       "      <th>serial_no.</th>\n",
       "      <th>gre_score</th>\n",
       "      <th>toefl_score</th>\n",
       "      <th>university_rating</th>\n",
       "      <th>sop</th>\n",
       "      <th>lor</th>\n",
       "      <th>cgpa</th>\n",
       "      <th>research</th>\n",
       "      <th>chance_of_admit</th>\n",
       "    </tr>\n",
       "  </thead>\n",
       "  <tbody>\n",
       "    <tr>\n",
       "      <th>0</th>\n",
       "      <td>1</td>\n",
       "      <td>337</td>\n",
       "      <td>118</td>\n",
       "      <td>4</td>\n",
       "      <td>4.5</td>\n",
       "      <td>4.5</td>\n",
       "      <td>9.65</td>\n",
       "      <td>1</td>\n",
       "      <td>0.92</td>\n",
       "    </tr>\n",
       "    <tr>\n",
       "      <th>1</th>\n",
       "      <td>2</td>\n",
       "      <td>324</td>\n",
       "      <td>107</td>\n",
       "      <td>4</td>\n",
       "      <td>4.0</td>\n",
       "      <td>4.5</td>\n",
       "      <td>8.87</td>\n",
       "      <td>1</td>\n",
       "      <td>0.76</td>\n",
       "    </tr>\n",
       "    <tr>\n",
       "      <th>2</th>\n",
       "      <td>3</td>\n",
       "      <td>316</td>\n",
       "      <td>104</td>\n",
       "      <td>3</td>\n",
       "      <td>3.0</td>\n",
       "      <td>3.5</td>\n",
       "      <td>8.00</td>\n",
       "      <td>1</td>\n",
       "      <td>0.72</td>\n",
       "    </tr>\n",
       "    <tr>\n",
       "      <th>3</th>\n",
       "      <td>4</td>\n",
       "      <td>322</td>\n",
       "      <td>110</td>\n",
       "      <td>3</td>\n",
       "      <td>3.5</td>\n",
       "      <td>2.5</td>\n",
       "      <td>8.67</td>\n",
       "      <td>1</td>\n",
       "      <td>0.80</td>\n",
       "    </tr>\n",
       "    <tr>\n",
       "      <th>4</th>\n",
       "      <td>5</td>\n",
       "      <td>314</td>\n",
       "      <td>103</td>\n",
       "      <td>2</td>\n",
       "      <td>2.0</td>\n",
       "      <td>3.0</td>\n",
       "      <td>8.21</td>\n",
       "      <td>0</td>\n",
       "      <td>0.65</td>\n",
       "    </tr>\n",
       "  </tbody>\n",
       "</table>\n",
       "</div>"
      ],
      "text/plain": [
       "   serial_no.  gre_score  toefl_score  university_rating  sop  lor  cgpa  \\\n",
       "0           1        337          118                  4  4.5  4.5  9.65   \n",
       "1           2        324          107                  4  4.0  4.5  8.87   \n",
       "2           3        316          104                  3  3.0  3.5  8.00   \n",
       "3           4        322          110                  3  3.5  2.5  8.67   \n",
       "4           5        314          103                  2  2.0  3.0  8.21   \n",
       "\n",
       "   research  chance_of_admit  \n",
       "0         1             0.92  \n",
       "1         1             0.76  \n",
       "2         1             0.72  \n",
       "3         1             0.80  \n",
       "4         0             0.65  "
      ]
     },
     "execution_count": 20,
     "metadata": {},
     "output_type": "execute_result"
    }
   ],
   "source": [
    "# Load in data\n",
    "df = pd.read_csv(\"Admission_Predict.csv\")\n",
    "df.columns = df.columns.str.strip().str.replace(' ','_').str.lower()\n",
    "df.head()"
   ]
  },
  {
   "cell_type": "markdown",
   "metadata": {},
   "source": [
    "### Decision Trees for Classification"
   ]
  },
  {
   "cell_type": "code",
   "execution_count": 51,
   "metadata": {},
   "outputs": [],
   "source": [
    "# Creat features and binary class\n",
    "X = df.loc[:, 'gre_score':'research']\n",
    "y = df['chance_of_admit'] >= 0.8"
   ]
  },
  {
   "cell_type": "code",
   "execution_count": 52,
   "metadata": {},
   "outputs": [
    {
     "name": "stdout",
     "output_type": "stream",
     "text": [
      "0.925\n",
      "0.925\n"
     ]
    }
   ],
   "source": [
    "# Split data, create decision tree, fit and predict\n",
    "x_train, x_test, y_train, y_test = train_test_split(X, y, random_state=0, test_size=0.2)\n",
    "dt = DecisionTreeClassifier(max_depth=2, ccp_alpha=0.01, criterion='gini')\n",
    "dt.fit(x_train, y_train)\n",
    "y_pred = dt.predict(x_test)\n",
    "print(dt.score(x_test, y_test))\n",
    "print(accuracy_score(y_test, y_pred))"
   ]
  },
  {
   "cell_type": "code",
   "execution_count": 53,
   "metadata": {},
   "outputs": [
    {
     "name": "stdout",
     "output_type": "stream",
     "text": [
      "|--- cgpa <= 8.85\n",
      "|   |--- class: False\n",
      "|--- cgpa >  8.85\n",
      "|   |--- gre_score <= 313.50\n",
      "|   |   |--- class: False\n",
      "|   |--- gre_score >  313.50\n",
      "|   |   |--- class: True\n",
      "\n"
     ]
    },
    {
     "data": {
      "text/plain": [
       "[Text(0.4, 0.8333333333333334, 'cgpa <= 8.845\\ngini = 0.443\\nsamples = 320\\nvalue = [214, 106]\\nclass = Unlikely admit'),\n",
       " Text(0.2, 0.5, '0.099\\n210\\n[199, 11]\\nUnlikely admit'),\n",
       " Text(0.6, 0.5, 'gre_score <= 313.5\\n0.236\\n110\\n[15, 95]\\nLikely admit'),\n",
       " Text(0.4, 0.16666666666666666, '0.0\\n4\\n[4, 0]\\nUnlikely admit'),\n",
       " Text(0.8, 0.16666666666666666, '0.186\\n106\\n[11, 95]\\nLikely admit')]"
      ]
     },
     "execution_count": 53,
     "metadata": {},
     "output_type": "execute_result"
    },
    {
     "data": {
      "image/png": "[encoded data removed]",
      "text/plain": [
       "<Figure size 640x480 with 1 Axes>"
      ]
     },
     "metadata": {},
     "output_type": "display_data"
    }
   ],
   "source": [
    "# Visualise decision tree\n",
    "print(tree.export_text(dt, feature_names=X.columns.tolist()))\n",
    "\n",
    "tree.plot_tree(dt, feature_names = x_train.columns.tolist(), max_depth=3, \n",
    "               class_names = ['Unlikely admit', 'Likely admit'],\n",
    "               label = 'root', filled=True)"
   ]
  },
  {
   "cell_type": "markdown",
   "metadata": {},
   "source": [
    "### Split Criteria"
   ]
  },
  {
   "cell_type": "code",
   "execution_count": 54,
   "metadata": {},
   "outputs": [
    {
     "name": "stdout",
     "output_type": "stream",
     "text": [
      "Gini impurity at root: 0.443\n"
     ]
    }
   ],
   "source": [
    "# self-made gini function to check Gini impurity value\n",
    "def gini(data):\n",
    "    \"\"\"Calculate the Gini Impurity Score\n",
    "    \"\"\"\n",
    "    data = pd.Series(data)\n",
    "    return 1 - sum(data.value_counts(normalize=True)**2)\n",
    "   \n",
    "gi = gini(y_train)\n",
    "print(f'Gini impurity at root: {round(gi,3)}')"
   ]
  },
  {
   "cell_type": "code",
   "execution_count": 55,
   "metadata": {},
   "outputs": [],
   "source": [
    "# self-made info_gain function to check Information gain value\n",
    "def info_gain(left, right, current_impurity):\n",
    "    \"\"\"Information Gain associated with creating a node/split data.\n",
    "    Input: left, right are data in left branch, right banch, respectively\n",
    "    current_impurity is the data impurity before splitting into left, right branches\n",
    "    \"\"\"\n",
    "    # weight for gini score of the left branch\n",
    "    w = float(len(left)) / (len(left) + len(right))\n",
    "    return current_impurity - w * gini(left) - (1 - w) * gini(right)"
   ]
  },
  {
   "cell_type": "code",
   "execution_count": 56,
   "metadata": {},
   "outputs": [
    {
     "data": {
      "text/html": [
       "<div>\n",
       "<style scoped>\n",
       "    .dataframe tbody tr th:only-of-type {\n",
       "        vertical-align: middle;\n",
       "    }\n",
       "\n",
       "    .dataframe tbody tr th {\n",
       "        vertical-align: top;\n",
       "    }\n",
       "\n",
       "    .dataframe thead th {\n",
       "        text-align: right;\n",
       "    }\n",
       "</style>\n",
       "<table border=\"1\" class=\"dataframe\">\n",
       "  <thead>\n",
       "    <tr style=\"text-align: right;\">\n",
       "      <th></th>\n",
       "      <th>split_value</th>\n",
       "      <th>info_gain</th>\n",
       "    </tr>\n",
       "  </thead>\n",
       "  <tbody>\n",
       "    <tr>\n",
       "      <th>10</th>\n",
       "      <td>8.84</td>\n",
       "      <td>0.296932</td>\n",
       "    </tr>\n",
       "    <tr>\n",
       "      <th>124</th>\n",
       "      <td>8.85</td>\n",
       "      <td>0.291464</td>\n",
       "    </tr>\n",
       "    <tr>\n",
       "      <th>139</th>\n",
       "      <td>8.88</td>\n",
       "      <td>0.290704</td>\n",
       "    </tr>\n",
       "    <tr>\n",
       "      <th>18</th>\n",
       "      <td>8.90</td>\n",
       "      <td>0.290054</td>\n",
       "    </tr>\n",
       "    <tr>\n",
       "      <th>98</th>\n",
       "      <td>8.83</td>\n",
       "      <td>0.287810</td>\n",
       "    </tr>\n",
       "    <tr>\n",
       "      <th>110</th>\n",
       "      <td>8.87</td>\n",
       "      <td>0.286050</td>\n",
       "    </tr>\n",
       "    <tr>\n",
       "      <th>152</th>\n",
       "      <td>8.94</td>\n",
       "      <td>0.284714</td>\n",
       "    </tr>\n",
       "    <tr>\n",
       "      <th>57</th>\n",
       "      <td>8.96</td>\n",
       "      <td>0.284210</td>\n",
       "    </tr>\n",
       "    <tr>\n",
       "      <th>96</th>\n",
       "      <td>8.80</td>\n",
       "      <td>0.283371</td>\n",
       "    </tr>\n",
       "    <tr>\n",
       "      <th>21</th>\n",
       "      <td>9.00</td>\n",
       "      <td>0.283364</td>\n",
       "    </tr>\n",
       "  </tbody>\n",
       "</table>\n",
       "</div>"
      ],
      "text/plain": [
       "     split_value  info_gain\n",
       "10          8.84   0.296932\n",
       "124         8.85   0.291464\n",
       "139         8.88   0.290704\n",
       "18          8.90   0.290054\n",
       "98          8.83   0.287810\n",
       "110         8.87   0.286050\n",
       "152         8.94   0.284714\n",
       "57          8.96   0.284210\n",
       "96          8.80   0.283371\n",
       "21          9.00   0.283364"
      ]
     },
     "execution_count": 56,
     "metadata": {},
     "output_type": "execute_result"
    }
   ],
   "source": [
    "# use info_gain over ALL values of cgpa to determine verify how the split on cgpa was determined\n",
    "info_gain_list = []\n",
    "for i in x_train.cgpa.unique():\n",
    "    left = y_train[x_train.cgpa<=i]\n",
    "    right = y_train[x_train.cgpa>i]\n",
    "    info_gain_list.append([i, info_gain(left, right, gi)])\n",
    "\n",
    "ig_table = pd.DataFrame(info_gain_list, columns=['split_value', 'info_gain']).sort_values('info_gain',ascending=False)\n",
    "ig_table.head(10)"
   ]
  },
  {
   "cell_type": "code",
   "execution_count": 59,
   "metadata": {},
   "outputs": [
    {
     "data": {
      "text/plain": [
       "Text(0, 0.5, 'info gain')"
      ]
     },
     "execution_count": 59,
     "metadata": {},
     "output_type": "execute_result"
    },
    {
     "data": {
      "image/png": "[encoded data removed]",
      "text/plain": [
       "<Figure size 640x480 with 1 Axes>"
      ]
     },
     "metadata": {},
     "output_type": "display_data"
    }
   ],
   "source": [
    "# plot the info_gain values\n",
    "plt.plot(ig_table['split_value'], ig_table['info_gain'],'o')\n",
    "plt.plot(ig_table['split_value'].iloc[0], ig_table['info_gain'].iloc[0],'r*')\n",
    "plt.xlabel('cgpa split value')\n",
    "plt.ylabel('info gain')"
   ]
  },
  {
   "cell_type": "markdown",
   "metadata": {},
   "source": []
  }
 ],
 "metadata": {
  "kernelspec": {
   "display_name": "ds",
   "language": "python",
   "name": "python3"
  },
  "language_info": {
   "codemirror_mode": {
    "name": "ipython",
    "version": 3
   },
   "file_extension": ".py",
   "mimetype": "text/x-python",
   "name": "python",
   "nbconvert_exporter": "python",
   "pygments_lexer": "ipython3",
   "version": "3.10.13"
  }
 },
 "nbformat": 4,
 "nbformat_minor": 2
}

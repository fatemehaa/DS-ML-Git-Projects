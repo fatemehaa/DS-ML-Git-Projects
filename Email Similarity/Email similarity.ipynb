{
 "cells": [
  {
   "cell_type": "code",
   "execution_count": 1,
   "metadata": {},
   "outputs": [],
   "source": [
    "# Import libraries\n",
    "from sklearn.datasets import fetch_20newsgroups\n",
    "from sklearn.naive_bayes import MultinomialNB\n",
    "from sklearn.feature_extraction.text import CountVectorizer"
   ]
  },
  {
   "cell_type": "code",
   "execution_count": 2,
   "metadata": {},
   "outputs": [],
   "source": [
    "# Import email dataset\n",
    "emails = fetch_20newsgroups()"
   ]
  },
  {
   "cell_type": "code",
   "execution_count": 3,
   "metadata": {},
   "outputs": [
    {
     "data": {
      "text/plain": [
       "['alt.atheism',\n",
       " 'comp.graphics',\n",
       " 'comp.os.ms-windows.misc',\n",
       " 'comp.sys.ibm.pc.hardware',\n",
       " 'comp.sys.mac.hardware',\n",
       " 'comp.windows.x',\n",
       " 'misc.forsale',\n",
       " 'rec.autos',\n",
       " 'rec.motorcycles',\n",
       " 'rec.sport.baseball',\n",
       " 'rec.sport.hockey',\n",
       " 'sci.crypt',\n",
       " 'sci.electronics',\n",
       " 'sci.med',\n",
       " 'sci.space',\n",
       " 'soc.religion.christian',\n",
       " 'talk.politics.guns',\n",
       " 'talk.politics.mideast',\n",
       " 'talk.politics.misc',\n",
       " 'talk.religion.misc']"
      ]
     },
     "execution_count": 3,
     "metadata": {},
     "output_type": "execute_result"
    }
   ],
   "source": [
    "# View the different email categories\n",
    "emails.target_names"
   ]
  },
  {
   "cell_type": "markdown",
   "metadata": {},
   "source": [
    "We’re interested in seeing how effective our Naive Bayes classifier is at telling the difference between a baseball email and a hockey email."
   ]
  },
  {
   "cell_type": "code",
   "execution_count": 4,
   "metadata": {},
   "outputs": [],
   "source": [
    "# Adding new 'categories' parameter to the data for the baseball and hockey categories\n",
    "emails = fetch_20newsgroups(categories = ['rec.sport.baseball', 'rec.sport.hockey'])\n"
   ]
  },
  {
   "cell_type": "code",
   "execution_count": 6,
   "metadata": {},
   "outputs": [
    {
     "data": {
      "text/plain": [
       "'From: mmb@lamar.ColoState.EDU (Michael Burger)\\nSubject: More TV Info\\nDistribution: na\\nNntp-Posting-Host: lamar.acns.colostate.edu\\nOrganization: Colorado State University, Fort Collins, CO  80523\\nLines: 36\\n\\nUnited States Coverage:\\nSunday April 18\\n  N.J./N.Y.I. at Pittsburgh - 1:00 EDT to Eastern Time Zone\\n  ABC - Gary Thorne and Bill Clement\\n\\n  St. Louis at Chicago - 12:00 CDT and 11:00 MDT - to Central/Mountain Zones\\n  ABC - Mike Emerick and Jim Schoenfeld\\n\\n  Los Angeles at Calgary - 12:00 PDT and 11:00 ADT - to Pacific/Alaskan Zones\\n  ABC - Al Michaels and John Davidson\\n\\nTuesday, April 20\\n  N.J./N.Y.I. at Pittsburgh - 7:30 EDT Nationwide\\n  ESPN - Gary Thorne and Bill Clement\\n\\nThursday, April 22 and Saturday April 24\\n  To Be Announced - 7:30 EDT Nationwide\\n  ESPN - To Be Announced\\n\\n\\nCanadian Coverage:\\n\\nSunday, April 18\\n  Buffalo at Boston - 7:30 EDT Nationwide\\n  TSN - ???\\n\\nTuesday, April 20\\n  N.J.D./N.Y. at Pittsburgh - 7:30 EDT Nationwide\\n  TSN - ???\\n\\nWednesday, April 21\\n  St. Louis at Chicago - 8:30 EDT Nationwide\\n  TSN - ???\\n\\n\\n\\n'"
      ]
     },
     "execution_count": 6,
     "metadata": {},
     "output_type": "execute_result"
    }
   ],
   "source": [
    "# View an email\n",
    "emails.data[5]"
   ]
  },
  {
   "cell_type": "code",
   "execution_count": 8,
   "metadata": {},
   "outputs": [
    {
     "data": {
      "text/plain": [
       "'rec.sport.hockey'"
      ]
     },
     "execution_count": 8,
     "metadata": {},
     "output_type": "execute_result"
    }
   ],
   "source": [
    "# View a label\n",
    "emails.target_names[emails.target[5]]"
   ]
  },
  {
   "cell_type": "code",
   "execution_count": null,
   "metadata": {},
   "outputs": [],
   "source": []
  }
 ],
 "metadata": {
  "kernelspec": {
   "display_name": "ds",
   "language": "python",
   "name": "python3"
  },
  "language_info": {
   "codemirror_mode": {
    "name": "ipython",
    "version": 3
   },
   "file_extension": ".py",
   "mimetype": "text/x-python",
   "name": "python",
   "nbconvert_exporter": "python",
   "pygments_lexer": "ipython3",
   "version": "3.10.13"
  }
 },
 "nbformat": 4,
 "nbformat_minor": 2
}

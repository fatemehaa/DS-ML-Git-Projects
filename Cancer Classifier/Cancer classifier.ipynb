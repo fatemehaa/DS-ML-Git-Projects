{
 "cells": [
  {
   "cell_type": "code",
   "execution_count": 11,
   "metadata": {},
   "outputs": [],
   "source": [
    "# Import dataset\n",
    "from sklearn.datasets import load_breast_cancer\n",
    "from sklearn.model_selection import train_test_split\n",
    "from sklearn.neighbors import KNeighborsClassifier\n"
   ]
  },
  {
   "cell_type": "code",
   "execution_count": 5,
   "metadata": {},
   "outputs": [
    {
     "name": "stdout",
     "output_type": "stream",
     "text": [
      "[1.799e+01 1.038e+01 1.228e+02 1.001e+03 1.184e-01 2.776e-01 3.001e-01\n",
      " 1.471e-01 2.419e-01 7.871e-02 1.095e+00 9.053e-01 8.589e+00 1.534e+02\n",
      " 6.399e-03 4.904e-02 5.373e-02 1.587e-02 3.003e-02 6.193e-03 2.538e+01\n",
      " 1.733e+01 1.846e+02 2.019e+03 1.622e-01 6.656e-01 7.119e-01 2.654e-01\n",
      " 4.601e-01 1.189e-01]\n",
      "['mean radius' 'mean texture' 'mean perimeter' 'mean area'\n",
      " 'mean smoothness' 'mean compactness' 'mean concavity'\n",
      " 'mean concave points' 'mean symmetry' 'mean fractal dimension'\n",
      " 'radius error' 'texture error' 'perimeter error' 'area error'\n",
      " 'smoothness error' 'compactness error' 'concavity error'\n",
      " 'concave points error' 'symmetry error' 'fractal dimension error'\n",
      " 'worst radius' 'worst texture' 'worst perimeter' 'worst area'\n",
      " 'worst smoothness' 'worst compactness' 'worst concavity'\n",
      " 'worst concave points' 'worst symmetry' 'worst fractal dimension']\n"
     ]
    }
   ],
   "source": [
    "# print first datapoint\n",
    "breast_cancer_data = load_breast_cancer()\n",
    "print(breast_cancer_data.data[0])\n",
    "print(breast_cancer_data.feature_names)"
   ]
  },
  {
   "cell_type": "code",
   "execution_count": 6,
   "metadata": {},
   "outputs": [
    {
     "name": "stdout",
     "output_type": "stream",
     "text": [
      "[0 0 0 0 0 0 0 0 0 0 0 0 0 0 0 0 0 0 0 1 1 1 0 0 0 0 0 0 0 0 0 0 0 0 0 0 0\n",
      " 1 0 0 0 0 0 0 0 0 1 0 1 1 1 1 1 0 0 1 0 0 1 1 1 1 0 1 0 0 1 1 1 1 0 1 0 0\n",
      " 1 0 1 0 0 1 1 1 0 0 1 0 0 0 1 1 1 0 1 1 0 0 1 1 1 0 0 1 1 1 1 0 1 1 0 1 1\n",
      " 1 1 1 1 1 1 0 0 0 1 0 0 1 1 1 0 0 1 0 1 0 0 1 0 0 1 1 0 1 1 0 1 1 1 1 0 1\n",
      " 1 1 1 1 1 1 1 1 0 1 1 1 1 0 0 1 0 1 1 0 0 1 1 0 0 1 1 1 1 0 1 1 0 0 0 1 0\n",
      " 1 0 1 1 1 0 1 1 0 0 1 0 0 0 0 1 0 0 0 1 0 1 0 1 1 0 1 0 0 0 0 1 1 0 0 1 1\n",
      " 1 0 1 1 1 1 1 0 0 1 1 0 1 1 0 0 1 0 1 1 1 1 0 1 1 1 1 1 0 1 0 0 0 0 0 0 0\n",
      " 0 0 0 0 0 0 0 1 1 1 1 1 1 0 1 0 1 1 0 1 1 0 1 0 0 1 1 1 1 1 1 1 1 1 1 1 1\n",
      " 1 0 1 1 0 1 0 1 1 1 1 1 1 1 1 1 1 1 1 1 1 0 1 1 1 0 1 0 1 1 1 1 0 0 0 1 1\n",
      " 1 1 0 1 0 1 0 1 1 1 0 1 1 1 1 1 1 1 0 0 0 1 1 1 1 1 1 1 1 1 1 1 0 0 1 0 0\n",
      " 0 1 0 0 1 1 1 1 1 0 1 1 1 1 1 0 1 1 1 0 1 1 0 0 1 1 1 1 1 1 0 1 1 1 1 1 1\n",
      " 1 0 1 1 1 1 1 0 1 1 0 1 1 1 1 1 1 1 1 1 1 1 1 0 1 0 0 1 0 1 1 1 1 1 0 1 1\n",
      " 0 1 0 1 1 0 1 0 1 1 1 1 1 1 1 1 0 0 1 1 1 1 1 1 0 1 1 1 1 1 1 1 1 1 1 0 1\n",
      " 1 1 1 1 1 1 0 1 0 1 1 0 1 1 1 1 1 0 0 1 0 1 0 1 1 1 1 1 0 1 1 0 1 0 1 0 0\n",
      " 1 1 1 0 1 1 1 1 1 1 1 1 1 1 1 0 1 0 0 1 1 1 1 1 1 1 1 1 1 1 1 1 1 1 1 1 1\n",
      " 1 1 1 1 1 1 1 0 0 0 0 0 0 1]\n",
      "['malignant' 'benign']\n"
     ]
    }
   ],
   "source": [
    "# printing the labels\n",
    "print(breast_cancer_data.target)\n",
    "print(breast_cancer_data.target_names)"
   ]
  },
  {
   "cell_type": "code",
   "execution_count": 10,
   "metadata": {},
   "outputs": [
    {
     "name": "stdout",
     "output_type": "stream",
     "text": [
      "455 455\n"
     ]
    }
   ],
   "source": [
    "# Split data into training and validating sets\n",
    "training_data, validation_data, training_labels, validation_labels = \\\n",
    "    train_test_split(breast_cancer_data.data, breast_cancer_data.target,\\\n",
    "                      test_size=0.2, random_state=100)\n",
    "\n",
    "print(len(training_data), len(training_labels))"
   ]
  },
  {
   "cell_type": "code",
   "execution_count": 15,
   "metadata": {},
   "outputs": [
    {
     "name": "stdout",
     "output_type": "stream",
     "text": [
      "0.9473684210526315\n"
     ]
    }
   ],
   "source": [
    "# Running the classifier\n",
    "classifier = KNeighborsClassifier(n_neighbors=3)\n",
    "classifier.fit(training_data, training_labels)\n",
    "\n",
    "# check accuracy of classifier\n",
    "print(classifier.score(validation_data, validation_labels))"
   ]
  },
  {
   "cell_type": "code",
   "execution_count": 17,
   "metadata": {},
   "outputs": [
    {
     "name": "stdout",
     "output_type": "stream",
     "text": [
      "1 0.9298245614035088\n",
      "2 0.9385964912280702\n",
      "3 0.9473684210526315\n",
      "4 0.9473684210526315\n",
      "5 0.9473684210526315\n",
      "6 0.9473684210526315\n",
      "7 0.9473684210526315\n",
      "8 0.9473684210526315\n",
      "9 0.956140350877193\n",
      "10 0.956140350877193\n",
      "11 0.956140350877193\n",
      "12 0.956140350877193\n",
      "13 0.956140350877193\n",
      "14 0.956140350877193\n",
      "15 0.956140350877193\n",
      "16 0.956140350877193\n",
      "17 0.956140350877193\n",
      "18 0.956140350877193\n",
      "19 0.956140350877193\n",
      "20 0.956140350877193\n",
      "21 0.956140350877193\n",
      "22 0.956140350877193\n",
      "23 0.9649122807017544\n",
      "24 0.9649122807017544\n",
      "25 0.956140350877193\n",
      "26 0.956140350877193\n",
      "27 0.956140350877193\n",
      "28 0.956140350877193\n",
      "29 0.9473684210526315\n",
      "30 0.9473684210526315\n",
      "31 0.9473684210526315\n",
      "32 0.9473684210526315\n",
      "33 0.9473684210526315\n",
      "34 0.9473684210526315\n",
      "35 0.9473684210526315\n",
      "36 0.9473684210526315\n",
      "37 0.956140350877193\n",
      "38 0.956140350877193\n",
      "39 0.956140350877193\n",
      "40 0.956140350877193\n",
      "41 0.956140350877193\n",
      "42 0.956140350877193\n",
      "43 0.956140350877193\n",
      "44 0.9473684210526315\n",
      "45 0.956140350877193\n",
      "46 0.9473684210526315\n",
      "47 0.956140350877193\n",
      "48 0.956140350877193\n",
      "49 0.956140350877193\n",
      "50 0.956140350877193\n",
      "51 0.9473684210526315\n",
      "52 0.9473684210526315\n",
      "53 0.9473684210526315\n",
      "54 0.956140350877193\n",
      "55 0.956140350877193\n",
      "56 0.9649122807017544\n",
      "57 0.9473684210526315\n",
      "58 0.9473684210526315\n",
      "59 0.9385964912280702\n",
      "60 0.9298245614035088\n",
      "61 0.9298245614035088\n",
      "62 0.9385964912280702\n",
      "63 0.9473684210526315\n",
      "64 0.9385964912280702\n",
      "65 0.9385964912280702\n",
      "66 0.9385964912280702\n",
      "67 0.9385964912280702\n",
      "68 0.9385964912280702\n",
      "69 0.9385964912280702\n",
      "70 0.9385964912280702\n",
      "71 0.9385964912280702\n",
      "72 0.9385964912280702\n",
      "73 0.9385964912280702\n",
      "74 0.9385964912280702\n",
      "75 0.9385964912280702\n",
      "76 0.9385964912280702\n",
      "77 0.9298245614035088\n",
      "78 0.9298245614035088\n",
      "79 0.9298245614035088\n",
      "80 0.9298245614035088\n",
      "81 0.9210526315789473\n",
      "82 0.9298245614035088\n",
      "83 0.9210526315789473\n",
      "84 0.9385964912280702\n",
      "85 0.9298245614035088\n",
      "86 0.9385964912280702\n",
      "87 0.9385964912280702\n",
      "88 0.9385964912280702\n",
      "89 0.9298245614035088\n",
      "90 0.9298245614035088\n",
      "91 0.9210526315789473\n",
      "92 0.9385964912280702\n",
      "93 0.9210526315789473\n",
      "94 0.9298245614035088\n",
      "95 0.9298245614035088\n",
      "96 0.9385964912280702\n",
      "97 0.9298245614035088\n",
      "98 0.9385964912280702\n",
      "99 0.9298245614035088\n",
      "100 0.9298245614035088\n"
     ]
    }
   ],
   "source": [
    "## Checking for other K values\n",
    "for k in range(1, 101):\n",
    "    # Running the classifier\n",
    "    classifier = KNeighborsClassifier(n_neighbors=k)\n",
    "    classifier.fit(training_data, training_labels)\n",
    "\n",
    "    # check accuracy of classifier\n",
    "    print(k, classifier.score(validation_data, validation_labels))"
   ]
  }
 ],
 "metadata": {
  "kernelspec": {
   "display_name": "ds",
   "language": "python",
   "name": "python3"
  },
  "language_info": {
   "codemirror_mode": {
    "name": "ipython",
    "version": 3
   },
   "file_extension": ".py",
   "mimetype": "text/x-python",
   "name": "python",
   "nbconvert_exporter": "python",
   "pygments_lexer": "ipython3",
   "version": "3.10.13"
  }
 },
 "nbformat": 4,
 "nbformat_minor": 2
}

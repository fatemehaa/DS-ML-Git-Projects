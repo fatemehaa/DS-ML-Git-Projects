{
 "cells": [
  {
   "cell_type": "code",
   "execution_count": 1,
   "metadata": {},
   "outputs": [],
   "source": [
    "# Import libraries\n",
    "import pandas as pd\n",
    "import numpy as np\n",
    "from sklearn.preprocessing import StandardScaler"
   ]
  },
  {
   "cell_type": "code",
   "execution_count": 5,
   "metadata": {},
   "outputs": [
    {
     "name": "stdout",
     "output_type": "stream",
     "text": [
      "<class 'pandas.core.frame.DataFrame'>\n",
      "RangeIndex: 5000 entries, 0 to 4999\n",
      "Data columns (total 9 columns):\n",
      " #   Column           Non-Null Count  Dtype \n",
      "---  ------           --------------  ----- \n",
      " 0   clothing_id      5000 non-null   int64 \n",
      " 1   age              5000 non-null   int64 \n",
      " 2   review_title     4174 non-null   object\n",
      " 3   review_text      4804 non-null   object\n",
      " 4   recommended      5000 non-null   bool  \n",
      " 5   division_name    4996 non-null   object\n",
      " 6   department_name  4996 non-null   object\n",
      " 7   review_date      5000 non-null   object\n",
      " 8   rating           5000 non-null   object\n",
      "dtypes: bool(1), int64(2), object(6)\n",
      "memory usage: 317.5+ KB\n",
      "Index(['clothing_id', 'age', 'review_title', 'review_text', 'recommended',\n",
      "       'division_name', 'department_name', 'review_date', 'rating'],\n",
      "      dtype='object') \n",
      " None\n"
     ]
    }
   ],
   "source": [
    "# Import dataset of customer reviews\n",
    "reviews = pd.read_csv('reviews.csv')\n",
    "print(reviews.columns, '\\n', reviews.info())"
   ]
  },
  {
   "cell_type": "code",
   "execution_count": 8,
   "metadata": {},
   "outputs": [
    {
     "name": "stdout",
     "output_type": "stream",
     "text": [
      "recommended\n",
      "True     4166\n",
      "False     834\n",
      "Name: count, dtype: int64\n",
      "recommended\n",
      "1    4166\n",
      "0     834\n",
      "Name: count, dtype: int64\n"
     ]
    }
   ],
   "source": [
    "## Transform recommended column from True/False to 1/0 ##\n",
    "#########################################################\n",
    "\n",
    "print(reviews.recommended.value_counts())\n",
    "\n",
    "# create a binary dictionary\n",
    "binary_dict = {True:1, False:0}\n",
    "\n",
    "# create a new column\n",
    "reviews['recommended'] = reviews.recommended.map(binary_dict)\n",
    "\n",
    "# print the transformed column\n",
    "print(reviews.recommended.value_counts())"
   ]
  },
  {
   "cell_type": "code",
   "execution_count": 10,
   "metadata": {},
   "outputs": [
    {
     "name": "stdout",
     "output_type": "stream",
     "text": [
      "rating\n",
      "Loved it     2798\n",
      "Liked it     1141\n",
      "Was okay      564\n",
      "Not great     304\n",
      "Hated it      193\n",
      "Name: count, dtype: int64\n",
      "rating\n",
      "5    2798\n",
      "4    1141\n",
      "3     564\n",
      "2     304\n",
      "1     193\n",
      "Name: count, dtype: int64\n"
     ]
    }
   ],
   "source": [
    "## Transform rating column ##\n",
    "#############################\n",
    "\n",
    "print(reviews.rating.value_counts())\n",
    "\n",
    "# create a rating dictionary\n",
    "rating_dict = {'Loved it': 5, 'Liked it': 4, 'Was okay': 3, 'Not great': 2, 'Hated it': 1}\n",
    "\n",
    "# transform rating column to numerical values\n",
    "reviews['rating'] = reviews.rating.map(rating_dict)\n",
    "\n",
    "# print transformed rating column\n",
    "print(reviews.rating.value_counts())"
   ]
  },
  {
   "cell_type": "code",
   "execution_count": 12,
   "metadata": {},
   "outputs": [
    {
     "name": "stdout",
     "output_type": "stream",
     "text": [
      "department_name\n",
      "Tops        2196\n",
      "Dresses     1322\n",
      "Bottoms      848\n",
      "Intimate     378\n",
      "Jackets      224\n",
      "Trend         28\n",
      "Name: count, dtype: int64\n",
      "Index(['clothing_id', 'age', 'review_title', 'review_text', 'recommended',\n",
      "       'division_name', 'department_name', 'review_date', 'rating', 'Bottoms',\n",
      "       'Dresses', 'Intimate', 'Jackets', 'Tops', 'Trend'],\n",
      "      dtype='object')\n"
     ]
    }
   ],
   "source": [
    "## Transform department_name column ##\n",
    "######################################\n",
    "\n",
    "print(reviews.department_name.value_counts())\n",
    "\n",
    "# perform one-hot encoding on the department_name column\n",
    "one_hot = pd.get_dummies(reviews.department_name)\n",
    "reviews = reviews.join(one_hot)\n",
    "print(reviews.columns)"
   ]
  },
  {
   "cell_type": "code",
   "execution_count": 15,
   "metadata": {},
   "outputs": [
    {
     "name": "stdout",
     "output_type": "stream",
     "text": [
      "datetime64[ns]\n"
     ]
    }
   ],
   "source": [
    "## Transform review_date column to a date-time feature ##\n",
    "#########################################################\n",
    "\n",
    "reviews['review_date'] = pd.to_datetime(reviews.review_date)\n",
    "\n",
    "print(reviews.review_date.dtype)"
   ]
  }
 ],
 "metadata": {
  "kernelspec": {
   "display_name": "ds",
   "language": "python",
   "name": "python3"
  },
  "language_info": {
   "codemirror_mode": {
    "name": "ipython",
    "version": 3
   },
   "file_extension": ".py",
   "mimetype": "text/x-python",
   "name": "python",
   "nbconvert_exporter": "python",
   "pygments_lexer": "ipython3",
   "version": "3.10.13"
  }
 },
 "nbformat": 4,
 "nbformat_minor": 2
}

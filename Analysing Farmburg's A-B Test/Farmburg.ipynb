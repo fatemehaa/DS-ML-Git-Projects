{
 "cells": [
  {
   "cell_type": "code",
   "execution_count": 39,
   "metadata": {},
   "outputs": [],
   "source": [
    "# Import libraries\n",
    "import numpy as np\n",
    "import pandas as pd\n",
    "from scipy.stats import chi2_contingency, binom_test"
   ]
  },
  {
   "cell_type": "code",
   "execution_count": 3,
   "metadata": {},
   "outputs": [
    {
     "data": {
      "text/html": [
       "<div>\n",
       "<style scoped>\n",
       "    .dataframe tbody tr th:only-of-type {\n",
       "        vertical-align: middle;\n",
       "    }\n",
       "\n",
       "    .dataframe tbody tr th {\n",
       "        vertical-align: top;\n",
       "    }\n",
       "\n",
       "    .dataframe thead th {\n",
       "        text-align: right;\n",
       "    }\n",
       "</style>\n",
       "<table border=\"1\" class=\"dataframe\">\n",
       "  <thead>\n",
       "    <tr style=\"text-align: right;\">\n",
       "      <th></th>\n",
       "      <th>user_id</th>\n",
       "      <th>group</th>\n",
       "      <th>is_purchase</th>\n",
       "    </tr>\n",
       "  </thead>\n",
       "  <tbody>\n",
       "    <tr>\n",
       "      <th>0</th>\n",
       "      <td>8e27bf9a</td>\n",
       "      <td>A</td>\n",
       "      <td>No</td>\n",
       "    </tr>\n",
       "    <tr>\n",
       "      <th>1</th>\n",
       "      <td>eb89e6f0</td>\n",
       "      <td>A</td>\n",
       "      <td>No</td>\n",
       "    </tr>\n",
       "    <tr>\n",
       "      <th>2</th>\n",
       "      <td>7119106a</td>\n",
       "      <td>A</td>\n",
       "      <td>No</td>\n",
       "    </tr>\n",
       "    <tr>\n",
       "      <th>3</th>\n",
       "      <td>e53781ff</td>\n",
       "      <td>A</td>\n",
       "      <td>No</td>\n",
       "    </tr>\n",
       "    <tr>\n",
       "      <th>4</th>\n",
       "      <td>02d48cf1</td>\n",
       "      <td>A</td>\n",
       "      <td>Yes</td>\n",
       "    </tr>\n",
       "  </tbody>\n",
       "</table>\n",
       "</div>"
      ],
      "text/plain": [
       "    user_id group is_purchase\n",
       "0  8e27bf9a     A          No\n",
       "1  eb89e6f0     A          No\n",
       "2  7119106a     A          No\n",
       "3  e53781ff     A          No\n",
       "4  02d48cf1     A         Yes"
      ]
     },
     "execution_count": 3,
     "metadata": {},
     "output_type": "execute_result"
    }
   ],
   "source": [
    "# Read in data file\n",
    "abdata = pd.read_csv('clicks.csv')\n",
    "abdata.head()"
   ]
  },
  {
   "cell_type": "code",
   "execution_count": 6,
   "metadata": {},
   "outputs": [
    {
     "name": "stdout",
     "output_type": "stream",
     "text": [
      "is_purchase    No  Yes\n",
      "group                 \n",
      "A            1350  316\n",
      "B            1483  183\n",
      "C            1583   83\n",
      "2.4126213546684264e-35\n"
     ]
    }
   ],
   "source": [
    "# Analyse association between likeliness of making a purchase and groups\n",
    "xtab = pd.crosstab(abdata.group, abdata.is_purchase)\n",
    "print(xtab)\n",
    "\n",
    "chi2, pval, dof, expected = chi2_contingency(xtab)\n",
    "print(pval)"
   ]
  },
  {
   "cell_type": "markdown",
   "metadata": {},
   "source": [
    "Calculate necessary purchase rate for each price point ($0.99, $1.99, $4.99)"
   ]
  },
  {
   "cell_type": "code",
   "execution_count": 11,
   "metadata": {},
   "outputs": [
    {
     "name": "stdout",
     "output_type": "stream",
     "text": [
      "4998\n",
      "1010.1010101010102\n",
      "0.20210104243717691\n",
      "502.51256281407035\n",
      "0.10054272965467594\n",
      "200.40080160320642\n",
      "0.040096198800161346\n"
     ]
    }
   ],
   "source": [
    "# Number of visits to the site in one week\n",
    "num_visits = len(abdata)\n",
    "print(num_visits)\n",
    "\n",
    "# number of sales needed to reach $1000 revenue for $0.99 price point\n",
    "num_sales_needed_099 = 1000 / 0.99\n",
    "print(num_sales_needed_099)\n",
    "\n",
    "# portion of weekly visitors who need to make a purchase in order to reach the $1000 goal\n",
    "p_sales_needed_099 = num_sales_needed_099 / num_visits\n",
    "print(p_sales_needed_099)\n",
    "\n",
    "# number of sales needed to reach $1000 revenue for $1.99 price point\n",
    "num_sales_needed_199 = 1000 / 1.99\n",
    "print(num_sales_needed_199)\n",
    "\n",
    "# portion of weekly visitors who need to make a purchase in order to reach the $1000 goal\n",
    "p_sales_needed_199 = num_sales_needed_199 / num_visits\n",
    "print(p_sales_needed_199)\n",
    "\n",
    "# number of sales needed to reach $1000 revenue for $4.99 price point\n",
    "num_sales_needed_499 = 1000 / 4.99\n",
    "print(num_sales_needed_499)\n",
    "\n",
    "# portion of weekly visitors who need to make a purchase in order to reach the $1000 goal\n",
    "p_sales_needed_499 = num_sales_needed_499 / num_visits\n",
    "print(p_sales_needed_499)"
   ]
  },
  {
   "cell_type": "code",
   "execution_count": 38,
   "metadata": {},
   "outputs": [
    {
     "name": "stderr",
     "output_type": "stream",
     "text": [
      "C:\\Users\\Fatemeh\\AppData\\Local\\Temp\\ipykernel_91092\\4205696291.py:4: FutureWarning: Series.__getitem__ treating keys as positions is deprecated. In a future version, integer keys will always be treated as labels (consistent with DataFrame behavior). To access a value by position, use `ser.iloc[pos]`\n",
      "  sales_099 = xtab.iloc[0][1]\n",
      "C:\\Users\\Fatemeh\\AppData\\Local\\Temp\\ipykernel_91092\\4205696291.py:8: FutureWarning: Series.__getitem__ treating keys as positions is deprecated. In a future version, integer keys will always be treated as labels (consistent with DataFrame behavior). To access a value by position, use `ser.iloc[pos]`\n",
      "  sales_199 = xtab.iloc[1][1]\n",
      "C:\\Users\\Fatemeh\\AppData\\Local\\Temp\\ipykernel_91092\\4205696291.py:11: FutureWarning: Series.__getitem__ treating keys as positions is deprecated. In a future version, integer keys will always be treated as labels (consistent with DataFrame behavior). To access a value by position, use `ser.iloc[pos]`\n",
      "  sales_499 = xtab.iloc[2][1]\n"
     ]
    }
   ],
   "source": [
    "# Test if the number of purchases from group A at $0.99 is greater than the necessary\n",
    "# number of purchases from the same group and price point\n",
    "samp_size_099 = np.sum(xtab.iloc[0])\n",
    "sales_099 = xtab.iloc[0][1]\n",
    "\n",
    "# Calculate the same for the other two groups\n",
    "samp_size_199 = np.sum(xtab.iloc[1])\n",
    "sales_199 = xtab.iloc[1][1]\n",
    "\n",
    "samp_size_499 = np.sum(xtab.iloc[2])\n",
    "sales_499 = xtab.iloc[2][1]"
   ]
  },
  {
   "cell_type": "code",
   "execution_count": 41,
   "metadata": {},
   "outputs": [
    {
     "name": "stdout",
     "output_type": "stream",
     "text": [
      "0.9028081076188554\n",
      "0.11184562623740596\n",
      "0.027944826659830616\n"
     ]
    },
    {
     "name": "stderr",
     "output_type": "stream",
     "text": [
      "C:\\Users\\Fatemeh\\AppData\\Local\\Temp\\ipykernel_91092\\2836142424.py:2: DeprecationWarning: 'binom_test' is deprecated in favour of 'binomtest' from version 1.7.0 and will be removed in Scipy 1.12.0.\n",
      "  pvalueA = binom_test(sales_099, samp_size_099, p_sales_needed_099, alternative='greater')\n",
      "C:\\Users\\Fatemeh\\AppData\\Local\\Temp\\ipykernel_91092\\2836142424.py:6: DeprecationWarning: 'binom_test' is deprecated in favour of 'binomtest' from version 1.7.0 and will be removed in Scipy 1.12.0.\n",
      "  pvalueB = binom_test(sales_199, samp_size_199, p_sales_needed_199, alternative='greater')\n",
      "C:\\Users\\Fatemeh\\AppData\\Local\\Temp\\ipykernel_91092\\2836142424.py:10: DeprecationWarning: 'binom_test' is deprecated in favour of 'binomtest' from version 1.7.0 and will be removed in Scipy 1.12.0.\n",
      "  pvalueC = binom_test(sales_499, samp_size_499, p_sales_needed_499, alternative='greater')\n"
     ]
    }
   ],
   "source": [
    "# Conduct binomial test for group A\n",
    "pvalueA = binom_test(sales_099, samp_size_099, p_sales_needed_099, alternative='greater')\n",
    "print(pvalueA)\n",
    "\n",
    "# Conduct binomial test for group B\n",
    "pvalueB = binom_test(sales_199, samp_size_199, p_sales_needed_199, alternative='greater')\n",
    "print(pvalueB)\n",
    "\n",
    "# Conduct binomial test for group C\n",
    "pvalueC = binom_test(sales_499, samp_size_499, p_sales_needed_499, alternative='greater')\n",
    "print(pvalueC)"
   ]
  },
  {
   "cell_type": "code",
   "execution_count": null,
   "metadata": {},
   "outputs": [],
   "source": []
  }
 ],
 "metadata": {
  "kernelspec": {
   "display_name": "ds",
   "language": "python",
   "name": "python3"
  },
  "language_info": {
   "codemirror_mode": {
    "name": "ipython",
    "version": 3
   },
   "file_extension": ".py",
   "mimetype": "text/x-python",
   "name": "python",
   "nbconvert_exporter": "python",
   "pygments_lexer": "ipython3",
   "version": "3.10.13"
  }
 },
 "nbformat": 4,
 "nbformat_minor": 2
}

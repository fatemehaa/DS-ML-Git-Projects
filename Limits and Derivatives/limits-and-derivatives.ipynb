{
 "cells": [
  {
   "cell_type": "code",
   "execution_count": 1,
   "metadata": {},
   "outputs": [],
   "source": [
    "import numpy as np\n",
    "from math import sin, cos, log, pi\n",
    "import matplotlib.pyplot as plt"
   ]
  },
  {
   "cell_type": "code",
   "execution_count": 4,
   "metadata": {},
   "outputs": [],
   "source": [
    "def limit_derivative(f, x, h):\n",
    "    \"\"\"\n",
    "    f: function to be differentiated \n",
    "    x: the point at which to differentiate f \n",
    "    h: distance between the points to be evaluated\n",
    "    \"\"\"\n",
    "    # compute the derivative at x with limit definition\n",
    "    return (f(x + h) - f(x)) / h"
   ]
  },
  {
   "cell_type": "code",
   "execution_count": 5,
   "metadata": {},
   "outputs": [],
   "source": [
    "# f1(x) = sin(x)\n",
    "def f1(x):\n",
    "    return sin(x)\n",
    "\n",
    "# f2(x) = x^4\n",
    "def f2(x):\n",
    "    return pow(x, 4)\n",
    "\n",
    "# f3(x) = x^2*log(x)\n",
    "def f3(x):\n",
    "    return pow(x, 2) * log(x)"
   ]
  },
  {
   "cell_type": "code",
   "execution_count": 8,
   "metadata": {},
   "outputs": [
    {
     "name": "stdout",
     "output_type": "stream",
     "text": [
      "4.943755299006494 1.1532531756323319 1.0000150000398844\n"
     ]
    }
   ],
   "source": [
    "# Calculate derivatives here\n",
    "h1 = limit_derivative(f3, 1, 2)\n",
    "h2 = limit_derivative(f3, 1, 0.1)\n",
    "h3 = limit_derivative(f3, 1, 0.00001)\n",
    "\n",
    "print(h1, h2, h3)"
   ]
  },
  {
   "cell_type": "code",
   "execution_count": null,
   "metadata": {},
   "outputs": [],
   "source": []
  }
 ],
 "metadata": {
  "kernelspec": {
   "display_name": "ds",
   "language": "python",
   "name": "python3"
  },
  "language_info": {
   "codemirror_mode": {
    "name": "ipython",
    "version": 3
   },
   "file_extension": ".py",
   "mimetype": "text/x-python",
   "name": "python",
   "nbconvert_exporter": "python",
   "pygments_lexer": "ipython3",
   "version": "3.10.13"
  }
 },
 "nbformat": 4,
 "nbformat_minor": 2
}

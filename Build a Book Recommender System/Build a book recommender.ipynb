{
 "cells": [
  {
   "cell_type": "code",
   "execution_count": 152,
   "metadata": {},
   "outputs": [],
   "source": [
    "# Import libraries\n",
    "import pandas as pd"
   ]
  },
  {
   "cell_type": "code",
   "execution_count": 153,
   "metadata": {},
   "outputs": [],
   "source": [
    "# read in data\n",
    "book_ratings = pd.read_csv('goodreads_ratings.csv')"
   ]
  },
  {
   "cell_type": "code",
   "execution_count": 154,
   "metadata": {},
   "outputs": [
    {
     "name": "stdout",
     "output_type": "stream",
     "text": [
      "<class 'pandas.core.frame.DataFrame'>\n",
      "RangeIndex: 3500 entries, 0 to 3499\n",
      "Data columns (total 11 columns):\n",
      " #   Column        Non-Null Count  Dtype \n",
      "---  ------        --------------  ----- \n",
      " 0   user_id       3500 non-null   object\n",
      " 1   book_id       3500 non-null   int64 \n",
      " 2   review_id     3500 non-null   object\n",
      " 3   rating        3500 non-null   int64 \n",
      " 4   review_text   3500 non-null   object\n",
      " 5   date_added    3500 non-null   object\n",
      " 6   date_updated  3500 non-null   object\n",
      " 7   read_at       3167 non-null   object\n",
      " 8   started_at    2395 non-null   object\n",
      " 9   n_votes       3500 non-null   int64 \n",
      " 10  n_comments    3500 non-null   int64 \n",
      "dtypes: int64(4), object(7)\n",
      "memory usage: 300.9+ KB\n"
     ]
    }
   ],
   "source": [
    "#1. Print dataset size and examine column data types\n",
    "book_ratings.head()\n",
    "book_ratings.describe()\n",
    "book_ratings.info()"
   ]
  },
  {
   "cell_type": "code",
   "execution_count": 155,
   "metadata": {},
   "outputs": [
    {
     "data": {
      "text/plain": [
       "rating\n",
       "4    1278\n",
       "5    1001\n",
       "3     707\n",
       "2     269\n",
       "1     125\n",
       "0     120\n",
       "Name: count, dtype: int64"
      ]
     },
     "execution_count": 155,
     "metadata": {},
     "output_type": "execute_result"
    }
   ],
   "source": [
    "#2. Distribution of ratings\n",
    "book_ratings.rating.value_counts()"
   ]
  },
  {
   "cell_type": "code",
   "execution_count": 156,
   "metadata": {},
   "outputs": [
    {
     "data": {
      "text/plain": [
       "rating\n",
       "4    1278\n",
       "5    1001\n",
       "3     707\n",
       "2     269\n",
       "1     125\n",
       "Name: count, dtype: int64"
      ]
     },
     "execution_count": 156,
     "metadata": {},
     "output_type": "execute_result"
    }
   ],
   "source": [
    "#3. Filter ratings that are out of range (all 0s)\n",
    "book_ratings = book_ratings[book_ratings['rating']!=0]\n",
    "book_ratings.rating.value_counts()"
   ]
  },
  {
   "cell_type": "code",
   "execution_count": 157,
   "metadata": {},
   "outputs": [],
   "source": [
    "#4. Prepare data for surprise: build a Suprise reader object\n",
    "from surprise import Reader\n",
    "reader = Reader(rating_scale=(1, 5))"
   ]
  },
  {
   "cell_type": "code",
   "execution_count": 162,
   "metadata": {},
   "outputs": [],
   "source": [
    "#5. Load `book_ratings` into a Surprise Dataset\n",
    "from surprise import Dataset\n",
    "rec_data = Dataset.load_from_df(book_ratings[['user_id',\n",
    "                                              'book_id',\n",
    "                                              'rating']],\n",
    "                                reader)"
   ]
  },
  {
   "cell_type": "code",
   "execution_count": 163,
   "metadata": {},
   "outputs": [],
   "source": [
    "#6. Create a 80:20 train-test split and set the random state to 7\n",
    "from surprise.model_selection import train_test_split\n",
    "trainset, testset = train_test_split(rec_data, test_size=0.2, \n",
    "                                     random_state=7)"
   ]
  },
  {
   "cell_type": "code",
   "execution_count": null,
   "metadata": {},
   "outputs": [],
   "source": [
    "#7. Use KNNBasice from Surprise to train a collaborative filter\n",
    "from surprise import KNNBasic\n",
    "book_recommender = KNNBasic()\n",
    "book_recommender.fit(trainset)"
   ]
  },
  {
   "cell_type": "code",
   "execution_count": null,
   "metadata": {},
   "outputs": [],
   "source": [
    "#8. Evaluate the recommender system\n",
    "from surprise import accuracy\n",
    "predictions = book_recommender.test(testset)\n",
    "accuracy.rmse(predictions)"
   ]
  },
  {
   "cell_type": "code",
   "execution_count": 166,
   "metadata": {},
   "outputs": [
    {
     "data": {
      "text/plain": [
       "3.8250739644970415"
      ]
     },
     "execution_count": 166,
     "metadata": {},
     "output_type": "execute_result"
    }
   ],
   "source": [
    "#9. Prediction on a user who gave the \"The Three-Body Problem\" a rating of 5\n",
    "book_recommender.predict('8842281e1d1347389f2ab93d60773d4d', '18007564').est"
   ]
  }
 ],
 "metadata": {
  "kernelspec": {
   "display_name": "ds",
   "language": "python",
   "name": "python3"
  },
  "language_info": {
   "codemirror_mode": {
    "name": "ipython",
    "version": 3
   },
   "file_extension": ".py",
   "mimetype": "text/x-python",
   "name": "python",
   "nbconvert_exporter": "python",
   "pygments_lexer": "ipython3",
   "version": "3.10.13"
  }
 },
 "nbformat": 4,
 "nbformat_minor": 2
}

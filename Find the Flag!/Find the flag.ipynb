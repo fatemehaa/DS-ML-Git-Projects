{
 "cells": [
  {
   "cell_type": "code",
   "execution_count": 1,
   "metadata": {},
   "outputs": [],
   "source": [
    "# Import libraries\n",
    "import seaborn as sns\n",
    "import pandas as pd\n",
    "import numpy as np\n",
    "from sklearn.model_selection import train_test_split\n",
    "import matplotlib.pyplot as plt\n",
    "from sklearn.tree import DecisionTreeClassifier\n",
    "from sklearn import tree"
   ]
  },
  {
   "cell_type": "code",
   "execution_count": 22,
   "metadata": {},
   "outputs": [
    {
     "data": {
      "text/plain": [
       "array(['green', 'red', 'blue', 'gold', 'white', 'orange', 'black',\n",
       "       'brown'], dtype=object)"
      ]
     },
     "execution_count": 22,
     "metadata": {},
     "output_type": "execute_result"
    }
   ],
   "source": [
    "# Define columns and load in dataset\n",
    "cols = ['name','landmass','zone', 'area', 'population', 'language','religion',\n",
    "        'bars','stripes','colours','red','green','blue','gold','white','black',\n",
    "        'orange','mainhue','circles','crosses','saltires','quarters','sunstars',\n",
    "        'crescent','triangle','icon','animate','text','topleft','botright']\n",
    "\n",
    "df= pd.read_csv(\"flag.data\", names = cols)\n",
    "df.head()\n",
    "df.mainhue.unique()"
   ]
  },
  {
   "cell_type": "code",
   "execution_count": 17,
   "metadata": {},
   "outputs": [
    {
     "name": "stdout",
     "output_type": "stream",
     "text": [
      "landmass\n",
      "4    52\n",
      "5    39\n",
      "3    35\n",
      "1    31\n",
      "6    20\n",
      "2    17\n",
      "Name: count, dtype: int64\n"
     ]
    }
   ],
   "source": [
    "# calculate distribution of flags by continent\n",
    "print(df.landmass.value_counts())\n",
    "\n",
    "# Use only Europe (3) and Oceania (6) continents\n",
    "df_3_6 = df[df.landmass.isin([3, 6])]"
   ]
  },
  {
   "cell_type": "code",
   "execution_count": 26,
   "metadata": {},
   "outputs": [
    {
     "name": "stdout",
     "output_type": "stream",
     "text": [
      "landmass         3     6\n",
      "red       0.828571  0.80\n",
      "green     0.200000  0.20\n",
      "blue      0.514286  0.80\n",
      "gold      0.428571  0.60\n",
      "white     0.771429  0.95\n",
      "black     0.171429  0.15\n",
      "orange    0.057143  0.15\n",
      "bars      0.628571  0.00\n",
      "stripes   1.285714  0.40\n",
      "circles   0.028571  0.15\n",
      "crosses   0.285714  0.40\n",
      "saltires  0.028571  0.30\n",
      "quarters  0.028571  0.40\n",
      "sunstars  0.142857  3.30\n",
      "triangle  0.028571  0.25\n",
      "animate   0.114286  0.30\n"
     ]
    }
   ],
   "source": [
    "#variable names to use as predictors\n",
    "var = ['red', 'green', 'blue','gold', 'white', 'black', 'orange', \n",
    "        'bars','stripes', 'circles','crosses', 'saltires',\n",
    "       'quarters','sunstars','triangle','animate']\n",
    "\n",
    "#Print the average values of the predictors for Europe and Oceania\n",
    "print(df_3_6.groupby('landmass')[var].mean().T)"
   ]
  },
  {
   "cell_type": "code",
   "execution_count": 29,
   "metadata": {},
   "outputs": [
    {
     "data": {
      "text/plain": [
       "red          int64\n",
       "green        int64\n",
       "blue         int64\n",
       "gold         int64\n",
       "white        int64\n",
       "black        int64\n",
       "orange       int64\n",
       "bars         int64\n",
       "stripes      int64\n",
       "circles      int64\n",
       "crosses      int64\n",
       "saltires     int64\n",
       "quarters     int64\n",
       "sunstars     int64\n",
       "triangle     int64\n",
       "animate      int64\n",
       "mainhue     object\n",
       "dtype: object"
      ]
     },
     "execution_count": 29,
     "metadata": {},
     "output_type": "execute_result"
    }
   ],
   "source": [
    "# Create labels for Europe and Oceania\n",
    "labels = df_3_6['landmass']\n",
    "\n",
    "var.append('mainhue')\n",
    "\n",
    "df_3_6[var].dtypes"
   ]
  },
  {
   "cell_type": "code",
   "execution_count": 30,
   "metadata": {},
   "outputs": [],
   "source": [
    "# Create dummy variables for categorical predictors (mainhue)\n",
    "data = pd.get_dummies(df_3_6[var])"
   ]
  },
  {
   "cell_type": "code",
   "execution_count": 31,
   "metadata": {},
   "outputs": [],
   "source": [
    "# Split data into a train and test set\n",
    "train_data, test_data, train_labels, test_labels = train_test_split(data, labels,\n",
    "                                                                    random_state=1,\n",
    "                                                                    test_size=0.4)"
   ]
  },
  {
   "cell_type": "code",
   "execution_count": null,
   "metadata": {},
   "outputs": [],
   "source": []
  }
 ],
 "metadata": {
  "kernelspec": {
   "display_name": "ds",
   "language": "python",
   "name": "python3"
  },
  "language_info": {
   "codemirror_mode": {
    "name": "ipython",
    "version": 3
   },
   "file_extension": ".py",
   "mimetype": "text/x-python",
   "name": "python",
   "nbconvert_exporter": "python",
   "pygments_lexer": "ipython3",
   "version": "3.10.13"
  }
 },
 "nbformat": 4,
 "nbformat_minor": 2
}
